{
 "cells": [
  {
   "cell_type": "markdown",
   "metadata": {},
   "source": [
    " # LINEAR REGRESSION"
   ]
  },
  {
   "cell_type": "code",
   "execution_count": 3,
   "metadata": {},
   "outputs": [],
   "source": [
    "import numpy as np\n",
    "import pandas as pd\n",
    "import matplotlib.pyplot as plt\n",
    "from sklearn import linear_model\n"
   ]
  },
  {
   "cell_type": "code",
   "execution_count": null,
   "metadata": {},
   "outputs": [],
   "source": [
    "{ area:[],\n",
    " price}\n",
    "df = pd.read_csv(\"\")\n",
    "df.head()\n"
   ]
  },
  {
   "cell_type": "markdown",
   "metadata": {},
   "source": [
    "### * FIRSTLY LOOK AT DISTRUTION OF THE DATA *"
   ]
  },
  {
   "cell_type": "code",
   "execution_count": 4,
   "metadata": {},
   "outputs": [],
   "source": [
    "%matplotlib inline"
   ]
  },
  {
   "cell_type": "code",
   "execution_count": null,
   "metadata": {},
   "outputs": [],
   "source": [
    "plt.title(\"Scattter Plot of  X againist Y\")\n",
    "plt.xlabel(\" Area\")\n",
    "plt.ylabel(\"Price $\")\n",
    "plt.scatter(df[\"area\"],df[\"price\"], color=\"b\", marker=\"-\")"
   ]
  }
 ],
 "metadata": {
  "interpreter": {
   "hash": "734f7be699a4893d4729fda4b703cca5cf0994ff37b4ea0873369290da26bfa6"
  },
  "kernelspec": {
   "display_name": "Python 3.9.12 ('portfolio')",
   "language": "python",
   "name": "python3"
  },
  "language_info": {
   "codemirror_mode": {
    "name": "ipython",
    "version": 3
   },
   "file_extension": ".py",
   "mimetype": "text/x-python",
   "name": "python",
   "nbconvert_exporter": "python",
   "pygments_lexer": "ipython3",
   "version": "3.9.12"
  },
  "orig_nbformat": 4
 },
 "nbformat": 4,
 "nbformat_minor": 2
}
